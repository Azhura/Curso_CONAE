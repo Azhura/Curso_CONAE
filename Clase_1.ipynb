{
 "cells": [
  {
   "cell_type": "markdown",
   "metadata": {},
   "source": [
    "# Nivel 1: Introducción a la Teledetección\n",
    "## Clase 1: Actividad Práctica 1.8\n",
    "Unidad de Educación y Formación Masiva   \n",
    "Comisión Nacional de Actividades Espaciales      \n",
    "**Alumno:** Carlos Alberto Gómez Prado   "
   ]
  },
  {
   "cell_type": "code",
   "execution_count": 1,
   "metadata": {},
   "outputs": [
    {
     "name": "stdout",
     "output_type": "stream",
     "text": [
      "Requirement already satisfied: folium in /opt/conda/envs/Python36/lib/python3.6/site-packages (0.10.1)\n",
      "Requirement already satisfied: requests in /opt/conda/envs/Python36/lib/python3.6/site-packages (from folium) (2.21.0)\n",
      "Requirement already satisfied: numpy in /opt/conda/envs/Python36/lib/python3.6/site-packages (from folium) (1.15.4)\n",
      "Requirement already satisfied: jinja2>=2.9 in /opt/conda/envs/Python36/lib/python3.6/site-packages (from folium) (2.10)\n",
      "Requirement already satisfied: branca>=0.3.0 in /opt/conda/envs/Python36/lib/python3.6/site-packages (from folium) (0.4.0)\n",
      "Requirement already satisfied: certifi>=2017.4.17 in /opt/conda/envs/Python36/lib/python3.6/site-packages (from requests->folium) (2019.11.28)\n",
      "Requirement already satisfied: chardet<3.1.0,>=3.0.2 in /opt/conda/envs/Python36/lib/python3.6/site-packages (from requests->folium) (3.0.4)\n",
      "Requirement already satisfied: idna<2.9,>=2.5 in /opt/conda/envs/Python36/lib/python3.6/site-packages (from requests->folium) (2.8)\n",
      "Requirement already satisfied: urllib3<1.25,>=1.21.1 in /opt/conda/envs/Python36/lib/python3.6/site-packages (from requests->folium) (1.24.1)\n",
      "Requirement already satisfied: MarkupSafe>=0.23 in /opt/conda/envs/Python36/lib/python3.6/site-packages (from jinja2>=2.9->folium) (1.1.0)\n",
      "Requirement already satisfied: six in /opt/conda/envs/Python36/lib/python3.6/site-packages (from branca>=0.3.0->folium) (1.12.0)\n"
     ]
    }
   ],
   "source": [
    "#Librerías\n",
    "!pip install folium \n",
    "import folium\n",
    "import pandas as pd\n",
    "import numpy as np "
   ]
  },
  {
   "cell_type": "code",
   "execution_count": 2,
   "metadata": {},
   "outputs": [],
   "source": [
    "# Datos de referencia y geolocalización\n",
    "data_legend = pd.DataFrame(columns=('Id','Referencias', 'Observación','Latitud', 'Longitud'))\n",
    "data_legend.loc[len(data_legend)]=['Id = 1','Selva','Paranaense',-25.683750,-54.528071] \n",
    "data_legend.loc[len(data_legend)]=['Id = 2','Rio','Iguazu',-25.639804, -54.397833] \n",
    "data_legend.loc[len(data_legend)]=['Id = 3','Rio','Iguazu',-25.623579, -54.532995] \n",
    "data_legend.loc[len(data_legend)]=['Id = 4','Rio','Parana','l','l'] \n",
    "data_legend.loc[len(data_legend)]=['Id = 5','Foz de Iguazu','Brasil',-25.5477791, -54.5880585] \n",
    "data_legend.loc[len(data_legend)]=['Id = 6','Embalse Urugua-í','ob','l','l'] \n",
    "data_legend.loc[len(data_legend)]=['Id = 7','Forestación','ob','l','l'] \n",
    "data_legend.loc[len(data_legend)]=['Id = 8','Suelo sin cobertura vegetal','ob','l','l'] \n",
    "data_legend.loc[len(data_legend)]=['Id = 9','Cultivo','ob','l','l'] \n",
    "data_legend.loc[len(data_legend)]=['Id = 10','Ciudad del Este','Republica del Paraguay',-25.5097198, -54.6111107] \n",
    "data_legend.loc[len(data_legend)]=['Id = 11','Puerto Iguazu','Argentina',-25.597180, -54.578951] \n",
    "data_legend.loc[len(data_legend)]=['Id = 12','Aeropuerto Internacional','Argentina',-25.743448,-54.475206] "
   ]
  },
  {
   "cell_type": "markdown",
   "metadata": {},
   "source": []
  },
  {
   "cell_type": "markdown",
   "metadata": {},
   "source": [
    "# Actividad Práctica [1.8]\n",
    "\n",
    "**1. Con ayuda de la guía 1.1 identifique en la imagen los siguientes objetos:**\n",
    "\n",
    "a)- El río Iguazú.   \n",
    "b)- El río Paraná.   \n",
    "c)- La ciudad de Puerto Iguazú.   \n",
    "d)- La zonas cultivadas al norte del río Iguazú con formas de parches en color verde.   \n",
    "e)- Las zonas cultivadas al oeste del río Paraná.   \n",
    "f)- La selva Paranaense.   \n",
    "g)- El embalse Urugua-í.   \n",
    "h)- La zona de forestaciones que rodea el embalse Urugua-í.   \n",
    "i)- El Aeropuerto Cataratas del Iguazú.  \n",
    "\n",
    "**2. Mida dentro de las tres im\u0013agenes los siguientes objetos:**  \n",
    "\n",
    "a)- El largo de la pista de aterrizaje del aeropuerto.   \n",
    "b)- El ancho del río Paraná frente a la ciudad de Puerto Iguazú.   \n",
    "c)- El perímetro de la ciudad de Puerto Iguazú.   \n",
    "d)- El perímetro del parche de selva Paranaense al norte del río Iguazú.   \n",
    "e)- El tamañoo de un pixel.      \n",
    "\n",
    "**3. Identifique las coordenadas geográficas de los siguientes objetos:**   \n",
    "\n",
    "a)- El aeropuerto de las cataratas del Iguazú.   \n",
    "b)- La ciudad de Puerto Iguazú.   \n",
    "c)- La ciudad de Foz de Iguazú.  \n",
    "d)- Ciudad del Este.   \n",
    "e)- La desembocadura del embalse Urugua-í.   \n",
    "f)- El cruce entre los ríos Paraná e Iguazú.   \n",
    "g)- Las cataratas del Iguazú donde el río Iguazú se angosta.    \n",
    "\n",
    "<img src=\"https://raw.githubusercontent.com/Azhura/Curso_CONAE/master/Figura1.1.jpg\">   "
   ]
  },
  {
   "cell_type": "markdown",
   "metadata": {},
   "source": [
    "## Creación del mapa"
   ]
  },
  {
   "cell_type": "code",
   "execution_count": 4,
   "metadata": {
    "scrolled": true
   },
   "outputs": [
    {
     "data": {
      "text/plain": [
       "<folium.map.Marker at 0x7ff44b15acf8>"
      ]
     },
     "execution_count": 4,
     "metadata": {},
     "output_type": "execute_result"
    }
   ],
   "source": [
    "# Definiendo coordenada geográfica\n",
    "map_latitude = -25.589364\n",
    "map_longitude = -54.59020\n",
    "# Definiendo valores de inicialización del mapa\n",
    "map_ = folium.Map(location=[map_latitude, map_longitude], zoom_start=11)\n",
    "# Marcando lugares de interés\n",
    "folium.Marker(location=[map_latitude, map_longitude],popup=\"Triple Frontera\").add_to(map_)\n",
    "folium.Marker(location=[-25.683750, -54.528071],popup=list(data_legend.iloc[0])).add_to(map_)\n",
    "folium.Marker(location=[-25.639804, -54.397833],popup=list(data_legend.iloc[1])).add_to(map_)\n",
    "folium.Marker(location=[-25.623579, -54.532995],popup=list(data_legend.iloc[2])).add_to(map_)\n",
    "folium.Marker(location=[-25.5477791, -54.5880585],popup=list(data_legend.iloc[4])).add_to(map_)\n",
    "folium.Marker(location=[-25.5097198, -54.6111107],popup=list(data_legend.iloc[9])).add_to(map_)\n",
    "folium.Marker(location=[-25.597180, -54.578951],popup=list(data_legend.iloc[10])).add_to(map_)\n",
    "folium.Marker(location=[-25.731835, -54.475692],popup=list(data_legend.iloc[11])).add_to(map_)"
   ]
  },
  {
   "cell_type": "code",
   "execution_count": 5,
   "metadata": {
    "scrolled": true
   },
   "outputs": [
    {
     "data": {
      "text/html": [
       "<div style=\"width:100%;\"><div style=\"position:relative;width:100%;height:0;padding-bottom:60%;\"><iframe src=\"about:blank\" style=\"position:absolute;width:100%;height:100%;left:0;top:0;border:none !important;\" data-html=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 onload=\"this.contentDocument.open();this.contentDocument.write(atob(this.getAttribute('data-html')));this.contentDocument.close();\" allowfullscreen webkitallowfullscreen mozallowfullscreen></iframe></div></div>"
      ],
      "text/plain": [
       "<folium.folium.Map at 0x7ff44b15a080>"
      ]
     },
     "execution_count": 5,
     "metadata": {},
     "output_type": "execute_result"
    }
   ],
   "source": [
    "map_"
   ]
  },
  {
   "cell_type": "code",
   "execution_count": null,
   "metadata": {},
   "outputs": [],
   "source": []
  }
 ],
 "metadata": {
  "kernelspec": {
   "display_name": "Python 3.6",
   "language": "python",
   "name": "python3"
  },
  "language_info": {
   "codemirror_mode": {
    "name": "ipython",
    "version": 3
   },
   "file_extension": ".py",
   "mimetype": "text/x-python",
   "name": "python",
   "nbconvert_exporter": "python",
   "pygments_lexer": "ipython3",
   "version": "3.6.9"
  }
 },
 "nbformat": 4,
 "nbformat_minor": 1
}
