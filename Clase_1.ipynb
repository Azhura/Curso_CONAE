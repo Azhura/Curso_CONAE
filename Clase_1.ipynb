{
 "cells": [
  {
   "cell_type": "markdown",
   "metadata": {},
   "source": [
    "# Nivel 1: Introducción a la Teledetección\n",
    "## Clase 1: Actividad Práctica 1.8\n",
    "Unidad de Educación y Formación Masiva   \n",
    "Comisión Nacional de Actividades Espaciales      \n",
    "**Alumno:** Carlos Alberto Gómez Prado   "
   ]
  },
  {
   "cell_type": "markdown",
   "metadata": {},
   "source": [
    "## Tabla de Contenidos\n",
    "\n",
    "<div class=\"alert alert-block alert-info\" style=\"margin-top: 20px\">\n",
    "\n",
    "1. [Librerías](#0)<br>\n",
    "2. [Creando Mapa](#2)<br>\n",
    "3. [Introduction to Folium](#4) <br>\n",
    "4. [Map with Markers](#6) <br>\n",
    "5. [Choropleth Maps](#8) <br>\n",
    "</div>\n",
    "<hr>"
   ]
  },
  {
   "cell_type": "markdown",
   "metadata": {},
   "source": [
    "# Librerías<a id=\"0\"></a>"
   ]
  },
  {
   "cell_type": "code",
   "execution_count": 1,
   "metadata": {},
   "outputs": [
    {
     "name": "stdout",
     "output_type": "stream",
     "text": [
      "Requirement already satisfied: folium in /opt/conda/envs/Python36/lib/python3.6/site-packages (0.10.1)\n",
      "Requirement already satisfied: branca>=0.3.0 in /opt/conda/envs/Python36/lib/python3.6/site-packages (from folium) (0.4.0)\n",
      "Requirement already satisfied: numpy in /opt/conda/envs/Python36/lib/python3.6/site-packages (from folium) (1.15.4)\n",
      "Requirement already satisfied: jinja2>=2.9 in /opt/conda/envs/Python36/lib/python3.6/site-packages (from folium) (2.10)\n",
      "Requirement already satisfied: requests in /opt/conda/envs/Python36/lib/python3.6/site-packages (from folium) (2.21.0)\n",
      "Requirement already satisfied: six in /opt/conda/envs/Python36/lib/python3.6/site-packages (from branca>=0.3.0->folium) (1.12.0)\n",
      "Requirement already satisfied: MarkupSafe>=0.23 in /opt/conda/envs/Python36/lib/python3.6/site-packages (from jinja2>=2.9->folium) (1.1.0)\n",
      "Requirement already satisfied: idna<2.9,>=2.5 in /opt/conda/envs/Python36/lib/python3.6/site-packages (from requests->folium) (2.8)\n",
      "Requirement already satisfied: urllib3<1.25,>=1.21.1 in /opt/conda/envs/Python36/lib/python3.6/site-packages (from requests->folium) (1.24.1)\n",
      "Requirement already satisfied: certifi>=2017.4.17 in /opt/conda/envs/Python36/lib/python3.6/site-packages (from requests->folium) (2019.11.28)\n",
      "Requirement already satisfied: chardet<3.1.0,>=3.0.2 in /opt/conda/envs/Python36/lib/python3.6/site-packages (from requests->folium) (3.0.4)\n",
      "Folium installed and imported!\n"
     ]
    }
   ],
   "source": [
    "!pip install folium \n",
    "import folium\n",
    "import pandas as pd\n",
    "import numpy as np \n",
    "print('Folium installed and imported!')"
   ]
  },
  {
   "cell_type": "markdown",
   "metadata": {},
   "source": []
  },
  {
   "cell_type": "markdown",
   "metadata": {},
   "source": [
    "# Creando Dataframe<a id=\"2\"></a>\n",
    "Basado en la info de la figura 1.1 de Snap   \n",
    "<img src=\"https://raw.githubusercontent.com/Azhura/Curso_CONAE/master/Figura1.1.jpg\">   "
   ]
  },
  {
   "cell_type": "code",
   "execution_count": 16,
   "metadata": {},
   "outputs": [
    {
     "data": {
      "text/html": [
       "<div>\n",
       "<style scoped>\n",
       "    .dataframe tbody tr th:only-of-type {\n",
       "        vertical-align: middle;\n",
       "    }\n",
       "\n",
       "    .dataframe tbody tr th {\n",
       "        vertical-align: top;\n",
       "    }\n",
       "\n",
       "    .dataframe thead th {\n",
       "        text-align: right;\n",
       "    }\n",
       "</style>\n",
       "<table border=\"1\" class=\"dataframe\">\n",
       "  <thead>\n",
       "    <tr style=\"text-align: right;\">\n",
       "      <th></th>\n",
       "      <th>Id</th>\n",
       "      <th>Referencias</th>\n",
       "      <th>Observación</th>\n",
       "      <th>Latitud</th>\n",
       "      <th>Longitud</th>\n",
       "    </tr>\n",
       "  </thead>\n",
       "  <tbody>\n",
       "    <tr>\n",
       "      <th>0</th>\n",
       "      <td>Id = 1</td>\n",
       "      <td>Selva</td>\n",
       "      <td>Paranaense</td>\n",
       "      <td>-25.6837</td>\n",
       "      <td>-54.5281</td>\n",
       "    </tr>\n",
       "    <tr>\n",
       "      <th>1</th>\n",
       "      <td>Id = 2</td>\n",
       "      <td>Rio</td>\n",
       "      <td>Iguazu</td>\n",
       "      <td>-25.6398</td>\n",
       "      <td>-54.3978</td>\n",
       "    </tr>\n",
       "    <tr>\n",
       "      <th>2</th>\n",
       "      <td>Id = 3</td>\n",
       "      <td>Rio</td>\n",
       "      <td>Iguazu</td>\n",
       "      <td>-25.6236</td>\n",
       "      <td>-54.533</td>\n",
       "    </tr>\n",
       "    <tr>\n",
       "      <th>3</th>\n",
       "      <td>Id = 4</td>\n",
       "      <td>Rio</td>\n",
       "      <td>Parana</td>\n",
       "      <td>l</td>\n",
       "      <td>l</td>\n",
       "    </tr>\n",
       "    <tr>\n",
       "      <th>4</th>\n",
       "      <td>Id = 5</td>\n",
       "      <td>Foz de Iguazu</td>\n",
       "      <td>Brasil</td>\n",
       "      <td>-25.5478</td>\n",
       "      <td>-54.5881</td>\n",
       "    </tr>\n",
       "    <tr>\n",
       "      <th>5</th>\n",
       "      <td>Id = 6</td>\n",
       "      <td>Embalse Urugua-í</td>\n",
       "      <td>ob</td>\n",
       "      <td>l</td>\n",
       "      <td>l</td>\n",
       "    </tr>\n",
       "    <tr>\n",
       "      <th>6</th>\n",
       "      <td>Id = 7</td>\n",
       "      <td>Forestación</td>\n",
       "      <td>ob</td>\n",
       "      <td>l</td>\n",
       "      <td>l</td>\n",
       "    </tr>\n",
       "    <tr>\n",
       "      <th>7</th>\n",
       "      <td>Id = 8</td>\n",
       "      <td>Suelo sin cobertura vegetal</td>\n",
       "      <td>ob</td>\n",
       "      <td>l</td>\n",
       "      <td>l</td>\n",
       "    </tr>\n",
       "    <tr>\n",
       "      <th>8</th>\n",
       "      <td>Id = 9</td>\n",
       "      <td>Cultivo</td>\n",
       "      <td>ob</td>\n",
       "      <td>l</td>\n",
       "      <td>l</td>\n",
       "    </tr>\n",
       "    <tr>\n",
       "      <th>9</th>\n",
       "      <td>Id = 10</td>\n",
       "      <td>Ciudad del Este</td>\n",
       "      <td>Republica del Paraguay</td>\n",
       "      <td>-25.5097</td>\n",
       "      <td>-54.6111</td>\n",
       "    </tr>\n",
       "    <tr>\n",
       "      <th>10</th>\n",
       "      <td>Id = 11</td>\n",
       "      <td>Puerto Iguazu</td>\n",
       "      <td>Argentina</td>\n",
       "      <td>-25.5972</td>\n",
       "      <td>-54.579</td>\n",
       "    </tr>\n",
       "    <tr>\n",
       "      <th>11</th>\n",
       "      <td>Id = 12</td>\n",
       "      <td>Aeropuerto Internacional</td>\n",
       "      <td>Argentina</td>\n",
       "      <td>-25.7434</td>\n",
       "      <td>-54.4752</td>\n",
       "    </tr>\n",
       "  </tbody>\n",
       "</table>\n",
       "</div>"
      ],
      "text/plain": [
       "         Id                  Referencias             Observación  Latitud  \\\n",
       "0    Id = 1                        Selva              Paranaense -25.6837   \n",
       "1    Id = 2                          Rio                  Iguazu -25.6398   \n",
       "2    Id = 3                          Rio                  Iguazu -25.6236   \n",
       "3    Id = 4                          Rio                  Parana        l   \n",
       "4    Id = 5                Foz de Iguazu                  Brasil -25.5478   \n",
       "5    Id = 6             Embalse Urugua-í                      ob        l   \n",
       "6    Id = 7                  Forestación                      ob        l   \n",
       "7    Id = 8  Suelo sin cobertura vegetal                      ob        l   \n",
       "8    Id = 9                      Cultivo                      ob        l   \n",
       "9   Id = 10              Ciudad del Este  Republica del Paraguay -25.5097   \n",
       "10  Id = 11                Puerto Iguazu               Argentina -25.5972   \n",
       "11  Id = 12     Aeropuerto Internacional               Argentina -25.7434   \n",
       "\n",
       "   Longitud  \n",
       "0  -54.5281  \n",
       "1  -54.3978  \n",
       "2   -54.533  \n",
       "3         l  \n",
       "4  -54.5881  \n",
       "5         l  \n",
       "6         l  \n",
       "7         l  \n",
       "8         l  \n",
       "9  -54.6111  \n",
       "10  -54.579  \n",
       "11 -54.4752  "
      ]
     },
     "execution_count": 16,
     "metadata": {},
     "output_type": "execute_result"
    }
   ],
   "source": [
    "data_legend = pd.DataFrame(columns=('Id','Referencias', 'Observación','Latitud', 'Longitud'))\n",
    "data_legend.loc[len(data_legend)]=['Id = 1','Selva','Paranaense',-25.683750,-54.528071] \n",
    "data_legend.loc[len(data_legend)]=['Id = 2','Rio','Iguazu',-25.639804, -54.397833] \n",
    "data_legend.loc[len(data_legend)]=['Id = 3','Rio','Iguazu',-25.623579, -54.532995] \n",
    "data_legend.loc[len(data_legend)]=['Id = 4','Rio','Parana','l','l'] \n",
    "data_legend.loc[len(data_legend)]=['Id = 5','Foz de Iguazu','Brasil',-25.5477791, -54.5880585] \n",
    "data_legend.loc[len(data_legend)]=['Id = 6','Embalse Urugua-í','ob','l','l'] \n",
    "data_legend.loc[len(data_legend)]=['Id = 7','Forestación','ob','l','l'] \n",
    "data_legend.loc[len(data_legend)]=['Id = 8','Suelo sin cobertura vegetal','ob','l','l'] \n",
    "data_legend.loc[len(data_legend)]=['Id = 9','Cultivo','ob','l','l'] \n",
    "data_legend.loc[len(data_legend)]=['Id = 10','Ciudad del Este','Republica del Paraguay',-25.5097198, -54.6111107] \n",
    "data_legend.loc[len(data_legend)]=['Id = 11','Puerto Iguazu','Argentina',-25.597180, -54.578951] \n",
    "data_legend.loc[len(data_legend)]=['Id = 12','Aeropuerto Internacional','Argentina',-25.743448,-54.475206] \n",
    "data_legend"
   ]
  },
  {
   "cell_type": "code",
   "execution_count": 17,
   "metadata": {
    "scrolled": true
   },
   "outputs": [
    {
     "data": {
      "text/plain": [
       "<folium.map.Marker at 0x7f9a3f0d7240>"
      ]
     },
     "execution_count": 17,
     "metadata": {},
     "output_type": "execute_result"
    }
   ],
   "source": [
    "# Definiendo coordenada geográfica\n",
    "map_latitude = -25.589364\n",
    "map_longitude = -54.59020\n",
    "# Definiendo valores de inicialización del mapa\n",
    "map_ = folium.Map(location=[map_latitude, map_longitude], zoom_start=11)\n",
    "# Marcando lugares de interés\n",
    "folium.Marker(location=[map_latitude, map_longitude],popup=\"Triple Frontera\").add_to(map_)\n",
    "folium.Marker(location=[-25.683750, -54.528071],popup=list(data_legend.iloc[0])).add_to(map_)\n",
    "folium.Marker(location=[-25.639804, -54.397833],popup=list(data_legend.iloc[1])).add_to(map_)\n",
    "folium.Marker(location=[-25.623579, -54.532995],popup=list(data_legend.iloc[2])).add_to(map_)\n",
    "folium.Marker(location=[-25.5477791, -54.5880585],popup=list(data_legend.iloc[4])).add_to(map_)\n",
    "folium.Marker(location=[-25.5097198, -54.6111107],popup=list(data_legend.iloc[9])).add_to(map_)\n",
    "folium.Marker(location=[-25.597180, -54.578951],popup=list(data_legend.iloc[10])).add_to(map_)\n",
    "folium.Marker(location=[-25.731835, -54.475692],popup=list(data_legend.iloc[11])).add_to(map_)"
   ]
  },
  {
   "cell_type": "code",
   "execution_count": 18,
   "metadata": {
    "scrolled": true
   },
   "outputs": [
    {
     "data": {
      "text/html": [
       "<div style=\"width:100%;\"><div style=\"position:relative;width:100%;height:0;padding-bottom:60%;\"><iframe src=\"about:blank\" style=\"position:absolute;width:100%;height:100%;left:0;top:0;border:none !important;\" data-html=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 onload=\"this.contentDocument.open();this.contentDocument.write(atob(this.getAttribute('data-html')));this.contentDocument.close();\" allowfullscreen webkitallowfullscreen mozallowfullscreen></iframe></div></div>"
      ],
      "text/plain": [
       "<folium.folium.Map at 0x7f9a3f0d56a0>"
      ]
     },
     "execution_count": 18,
     "metadata": {},
     "output_type": "execute_result"
    }
   ],
   "source": [
    "map_"
   ]
  },
  {
   "cell_type": "code",
   "execution_count": null,
   "metadata": {},
   "outputs": [],
   "source": []
  }
 ],
 "metadata": {
  "kernelspec": {
   "display_name": "Python 3.6",
   "language": "python",
   "name": "python3"
  },
  "language_info": {
   "codemirror_mode": {
    "name": "ipython",
    "version": 3
   },
   "file_extension": ".py",
   "mimetype": "text/x-python",
   "name": "python",
   "nbconvert_exporter": "python",
   "pygments_lexer": "ipython3",
   "version": "3.6.9"
  }
 },
 "nbformat": 4,
 "nbformat_minor": 1
}
