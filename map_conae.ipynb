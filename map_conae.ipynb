{
 "cells": [
  {
   "cell_type": "markdown",
   "metadata": {},
   "source": [
    "# Nivel 1: Introducción a la Teledetección.   \n",
    "## Clase 1: Actividad Práctica 1.8.   \n",
    "Unidad de Educación y Formación Masiva      \n",
    "Comisión Nacional de Actividades Espaciales      \n",
    "**Alumno:** Carlos Alberto Gómez Prado   "
   ]
  },
  {
   "cell_type": "code",
   "execution_count": 4,
   "metadata": {},
   "outputs": [
    {
     "name": "stdout",
     "output_type": "stream",
     "text": [
      "Requirement already satisfied: folium in /home/jupyterlab/conda/envs/python/lib/python3.6/site-packages (0.5.0)\n",
      "Requirement already satisfied: requests in /home/jupyterlab/conda/envs/python/lib/python3.6/site-packages (from folium) (2.23.0)\n",
      "Requirement already satisfied: six in /home/jupyterlab/conda/envs/python/lib/python3.6/site-packages (from folium) (1.14.0)\n",
      "Requirement already satisfied: branca in /home/jupyterlab/conda/envs/python/lib/python3.6/site-packages (from folium) (0.4.0)\n",
      "Requirement already satisfied: jinja2 in /home/jupyterlab/conda/envs/python/lib/python3.6/site-packages (from folium) (2.11.1)\n",
      "Requirement already satisfied: certifi>=2017.4.17 in /home/jupyterlab/conda/envs/python/lib/python3.6/site-packages (from requests->folium) (2020.4.5.1)\n",
      "Requirement already satisfied: chardet<4,>=3.0.2 in /home/jupyterlab/conda/envs/python/lib/python3.6/site-packages (from requests->folium) (3.0.4)\n",
      "Requirement already satisfied: urllib3!=1.25.0,!=1.25.1,<1.26,>=1.21.1 in /home/jupyterlab/conda/envs/python/lib/python3.6/site-packages (from requests->folium) (1.25.8)\n",
      "Requirement already satisfied: idna<3,>=2.5 in /home/jupyterlab/conda/envs/python/lib/python3.6/site-packages (from requests->folium) (2.9)\n",
      "Requirement already satisfied: MarkupSafe>=0.23 in /home/jupyterlab/conda/envs/python/lib/python3.6/site-packages (from jinja2->folium) (1.1.1)\n"
     ]
    }
   ],
   "source": [
    "#Instalación de paquetes\n",
    "!pip install folium "
   ]
  },
  {
   "cell_type": "code",
   "execution_count": 5,
   "metadata": {},
   "outputs": [],
   "source": [
    "#Librerías\n",
    "import folium\n",
    "import pandas as pd\n",
    "import numpy as np "
   ]
  },
  {
   "cell_type": "code",
   "execution_count": 14,
   "metadata": {},
   "outputs": [
    {
     "data": {
      "text/html": [
       "<div>\n",
       "<style scoped>\n",
       "    .dataframe tbody tr th:only-of-type {\n",
       "        vertical-align: middle;\n",
       "    }\n",
       "\n",
       "    .dataframe tbody tr th {\n",
       "        vertical-align: top;\n",
       "    }\n",
       "\n",
       "    .dataframe thead th {\n",
       "        text-align: right;\n",
       "    }\n",
       "</style>\n",
       "<table border=\"1\" class=\"dataframe\">\n",
       "  <thead>\n",
       "    <tr style=\"text-align: right;\">\n",
       "      <th></th>\n",
       "      <th>Id</th>\n",
       "      <th>Referencias</th>\n",
       "      <th>Observación</th>\n",
       "      <th>Latitud</th>\n",
       "      <th>Longitud</th>\n",
       "    </tr>\n",
       "  </thead>\n",
       "  <tbody>\n",
       "    <tr>\n",
       "      <th>0</th>\n",
       "      <td>Id = 1</td>\n",
       "      <td>Selva</td>\n",
       "      <td>Paranaense</td>\n",
       "      <td>-25.6837</td>\n",
       "      <td>-54.5281</td>\n",
       "    </tr>\n",
       "    <tr>\n",
       "      <th>1</th>\n",
       "      <td>Id = 2</td>\n",
       "      <td>Rio</td>\n",
       "      <td>Iguazu</td>\n",
       "      <td>-25.6398</td>\n",
       "      <td>-54.3978</td>\n",
       "    </tr>\n",
       "    <tr>\n",
       "      <th>2</th>\n",
       "      <td>Id = 3</td>\n",
       "      <td>Rio</td>\n",
       "      <td>Iguazu</td>\n",
       "      <td>-25.6236</td>\n",
       "      <td>-54.533</td>\n",
       "    </tr>\n",
       "    <tr>\n",
       "      <th>3</th>\n",
       "      <td>Id = 4</td>\n",
       "      <td>Rio</td>\n",
       "      <td>Parana</td>\n",
       "      <td>l</td>\n",
       "      <td>l</td>\n",
       "    </tr>\n",
       "    <tr>\n",
       "      <th>4</th>\n",
       "      <td>Id = 5</td>\n",
       "      <td>Foz de Iguazu</td>\n",
       "      <td>Brasil</td>\n",
       "      <td>-25.5478</td>\n",
       "      <td>-54.5881</td>\n",
       "    </tr>\n",
       "    <tr>\n",
       "      <th>5</th>\n",
       "      <td>Id = 6</td>\n",
       "      <td>Embalse Urugua-í</td>\n",
       "      <td>ob</td>\n",
       "      <td>l</td>\n",
       "      <td>l</td>\n",
       "    </tr>\n",
       "    <tr>\n",
       "      <th>6</th>\n",
       "      <td>Id = 7</td>\n",
       "      <td>Forestación</td>\n",
       "      <td>ob</td>\n",
       "      <td>l</td>\n",
       "      <td>l</td>\n",
       "    </tr>\n",
       "    <tr>\n",
       "      <th>7</th>\n",
       "      <td>Id = 8</td>\n",
       "      <td>Suelo sin cobertura vegetal</td>\n",
       "      <td>ob</td>\n",
       "      <td>l</td>\n",
       "      <td>l</td>\n",
       "    </tr>\n",
       "    <tr>\n",
       "      <th>8</th>\n",
       "      <td>Id = 9</td>\n",
       "      <td>Cultivo</td>\n",
       "      <td>ob</td>\n",
       "      <td>l</td>\n",
       "      <td>l</td>\n",
       "    </tr>\n",
       "    <tr>\n",
       "      <th>9</th>\n",
       "      <td>Id = 10</td>\n",
       "      <td>Ciudad del Este</td>\n",
       "      <td>Republica del Paraguay</td>\n",
       "      <td>-25.5097</td>\n",
       "      <td>-54.6111</td>\n",
       "    </tr>\n",
       "    <tr>\n",
       "      <th>10</th>\n",
       "      <td>Id = 11</td>\n",
       "      <td>Puerto Iguazu</td>\n",
       "      <td>Argentina</td>\n",
       "      <td>-25.5972</td>\n",
       "      <td>-54.579</td>\n",
       "    </tr>\n",
       "    <tr>\n",
       "      <th>11</th>\n",
       "      <td>Id = 12</td>\n",
       "      <td>Aeropuerto Internacional</td>\n",
       "      <td>Argentina</td>\n",
       "      <td>-25.7434</td>\n",
       "      <td>-54.4752</td>\n",
       "    </tr>\n",
       "  </tbody>\n",
       "</table>\n",
       "</div>"
      ],
      "text/plain": [
       "         Id                  Referencias             Observación  Latitud  \\\n",
       "0    Id = 1                        Selva              Paranaense -25.6837   \n",
       "1    Id = 2                          Rio                  Iguazu -25.6398   \n",
       "2    Id = 3                          Rio                  Iguazu -25.6236   \n",
       "3    Id = 4                          Rio                  Parana        l   \n",
       "4    Id = 5                Foz de Iguazu                  Brasil -25.5478   \n",
       "5    Id = 6             Embalse Urugua-í                      ob        l   \n",
       "6    Id = 7                  Forestación                      ob        l   \n",
       "7    Id = 8  Suelo sin cobertura vegetal                      ob        l   \n",
       "8    Id = 9                      Cultivo                      ob        l   \n",
       "9   Id = 10              Ciudad del Este  Republica del Paraguay -25.5097   \n",
       "10  Id = 11                Puerto Iguazu               Argentina -25.5972   \n",
       "11  Id = 12     Aeropuerto Internacional               Argentina -25.7434   \n",
       "\n",
       "   Longitud  \n",
       "0  -54.5281  \n",
       "1  -54.3978  \n",
       "2   -54.533  \n",
       "3         l  \n",
       "4  -54.5881  \n",
       "5         l  \n",
       "6         l  \n",
       "7         l  \n",
       "8         l  \n",
       "9  -54.6111  \n",
       "10  -54.579  \n",
       "11 -54.4752  "
      ]
     },
     "execution_count": 14,
     "metadata": {},
     "output_type": "execute_result"
    }
   ],
   "source": [
    "# Datos de referencia y geolocalización\n",
    "data_legend = pd.DataFrame(columns=('Id','Referencias', 'Observación','Latitud', 'Longitud'))\n",
    "data_legend.loc[len(data_legend)]=['Id = 1','Selva','Paranaense',-25.683750,-54.528071] \n",
    "data_legend.loc[len(data_legend)]=['Id = 2','Rio','Iguazu',-25.639804, -54.397833] \n",
    "data_legend.loc[len(data_legend)]=['Id = 3','Rio','Iguazu',-25.623579, -54.532995] \n",
    "data_legend.loc[len(data_legend)]=['Id = 4','Rio','Parana','l','l'] \n",
    "data_legend.loc[len(data_legend)]=['Id = 5','Foz de Iguazu','Brasil',-25.5477791, -54.5880585] \n",
    "data_legend.loc[len(data_legend)]=['Id = 6','Embalse Urugua-í','ob','l','l'] \n",
    "data_legend.loc[len(data_legend)]=['Id = 7','Forestación','ob','l','l'] \n",
    "data_legend.loc[len(data_legend)]=['Id = 8','Suelo sin cobertura vegetal','ob','l','l'] \n",
    "data_legend.loc[len(data_legend)]=['Id = 9','Cultivo','ob','l','l'] \n",
    "data_legend.loc[len(data_legend)]=['Id = 10','Ciudad del Este','Republica del Paraguay',-25.5097198, -54.6111107] \n",
    "data_legend.loc[len(data_legend)]=['Id = 11','Puerto Iguazu','Argentina',-25.597180, -54.578951] \n",
    "data_legend.loc[len(data_legend)]=['Id = 12','Aeropuerto Internacional','Argentina',-25.743448,-54.475206] \n",
    "data_legend"
   ]
  },
  {
   "cell_type": "code",
   "execution_count": 24,
   "metadata": {},
   "outputs": [
    {
     "data": {
      "text/plain": [
       "['Id = 1', 'Selva', 'Paranaense', -25.68375, -54.528071]"
      ]
     },
     "execution_count": 24,
     "metadata": {},
     "output_type": "execute_result"
    }
   ],
   "source": [
    "list(data_legend.iloc[0])"
   ]
  },
  {
   "cell_type": "code",
   "execution_count": 43,
   "metadata": {},
   "outputs": [],
   "source": [
    "# Función para visualizar mapa\n",
    "def embed_map(m, file_name):\n",
    "    from IPython.display import IFrame\n",
    "    m.save(file_name)\n",
    "    return IFrame(file_name, width='100%', height='500px')\n",
    "\n",
    "# Función para crear mapa con marcas \n",
    "def Create_map(op):\n",
    "    if (op == 1):\n",
    "        text = 'openstreetmap'\n",
    "        save = 'map_1.html'\n",
    "        zoom = 3\n",
    "    elif(op == 2):\n",
    "        text = 'Stamen Terrain'\n",
    "        save = 'map_2.html'\n",
    "        zoom = 6\n",
    "    else :\n",
    "        text = 'stamentoner'\n",
    "        save = 'map_3.html'\n",
    "        zoom = 4\n",
    "        \n",
    "    # Definiendo coordenada geográfica\n",
    "    map_latitude = -25.589364\n",
    "    map_longitude = -54.59020\n",
    "    # Definiendo valores de inicialización del mapa\n",
    "    m = folium.Map(location=[map_latitude,map_longitude], tiles=text, zoom_start=11)\n",
    "        \n",
    "    # Marcando lugares de interés\n",
    "    folium.Marker(location=[map_latitude, map_longitude],popup=\"Triple Frontera\").add_to(m)\n",
    "    #folium.Marker(location=[-25.683750, -54.528071],popup=data_legend.iloc[0]).add_to(Create_map)\n",
    "    folium.LayerControl().add_to(m)\n",
    "    embed_map(m, save)\n",
    "    return m        "
   ]
  },
  {
   "cell_type": "code",
   "execution_count": 44,
   "metadata": {},
   "outputs": [
    {
     "data": {
      "text/html": [
       "<div style=\"width:100%;\"><div style=\"position:relative;width:100%;height:0;padding-bottom:60%;\"><iframe src=\"about:blank\" style=\"position:absolute;width:100%;height:100%;left:0;top:0;border:none !important;\" data-html=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 onload=\"this.contentDocument.open();this.contentDocument.write(atob(this.getAttribute('data-html')));this.contentDocument.close();\" allowfullscreen webkitallowfullscreen mozallowfullscreen></iframe></div></div>"
      ],
      "text/plain": [
       "<folium.folium.Map at 0x7fa59414a278>"
      ]
     },
     "execution_count": 44,
     "metadata": {},
     "output_type": "execute_result"
    }
   ],
   "source": [
    "Create_map(1)\n",
    "\n",
    "    #folium.Marker(location=[-25.639804, -54.397833],popup=list(data_legend.iloc[1])).add_to(m)\n",
    "    #folium.Marker(location=[-25.623579, -54.532995],popup=list(data_legend.iloc[2])).add_to(m)\n",
    "    #folium.Marker(location=[-25.5477791, -54.5880585],popup=list(data_legend.iloc[4])).add_to(m)\n",
    "    #folium.Marker(location=[-25.5097198, -54.6111107],popup=list(data_legend.iloc[9])).add_to(m)\n",
    "    #folium.Marker(location=[-25.597180, -54.578951],popup=list(data_legend.iloc[10])).add_to(m)\n",
    "    #folium.Marker(location=[-25.731835, -54.475692],popup=list(data_legend.iloc[11])).add_to(m)"
   ]
  },
  {
   "cell_type": "code",
   "execution_count": null,
   "metadata": {},
   "outputs": [],
   "source": []
  }
 ],
 "metadata": {
  "kernelspec": {
   "display_name": "Python",
   "language": "python",
   "name": "conda-env-python-py"
  },
  "language_info": {
   "codemirror_mode": {
    "name": "ipython",
    "version": 3
   },
   "file_extension": ".py",
   "mimetype": "text/x-python",
   "name": "python",
   "nbconvert_exporter": "python",
   "pygments_lexer": "ipython3",
   "version": "3.6.10"
  }
 },
 "nbformat": 4,
 "nbformat_minor": 4
}
